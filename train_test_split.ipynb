{
 "cells": [
  {
   "cell_type": "code",
   "execution_count": 1,
   "id": "2dd90da9",
   "metadata": {},
   "outputs": [],
   "source": [
    "#from skimage import io as skio\n",
    "import glob\n",
    "import pandas as pd\n",
    "import os\n",
    "import yaml\n",
    "import shutil\n",
    "from sklearn.model_selection import train_test_split\n"
   ]
  },
  {
   "cell_type": "code",
   "execution_count": 6,
   "id": "28ac4404",
   "metadata": {},
   "outputs": [],
   "source": [
    "def train_from_anns(images_path, train_name):\n",
    "        # might need a way to differentiate subsequent re-trainings\n",
    "        # uuid = str(uuid.uuid4())[:2]\n",
    "        # train_name = train_name + \"_\" + uuid\n",
    "\n",
    "        # print(\"Train Name passed to training:\")\n",
    "        # print(train_name)\n",
    "\n",
    "        #make training dirs\n",
    "        path = r'C:\\Users\\gdea\\OneDrive - Novozymes A S\\Documents\\python_files\\Useful_work_Programs\\ferm_eye_project\\yolo_training' # output location \n",
    "        img_train = os.path.join(path, train_name, 'images/train')\n",
    "        img_val = os.path.join(path, train_name, 'images/val')\n",
    "        img_test = os.path.join(path, train_name, 'images/test')\n",
    "        label_train = os.path.join(path, train_name, 'labels/train')\n",
    "        label_val = os.path.join(path, train_name, 'labels/val')\n",
    "        label_test = os.path.join(path, train_name, 'labels/test')\n",
    "\n",
    "        folder_pth = os.path.join(path, train_name)\n",
    "\n",
    "        os.makedirs(os.path.join(path, train_name), exist_ok=True)\n",
    "\n",
    "        os.makedirs(os.path.join(path, train_name, 'images'), exist_ok=True)\n",
    "        os.makedirs(os.path.join(path, train_name, 'labels'), exist_ok=True)\n",
    "        os.makedirs(img_train, exist_ok=True)\n",
    "        os.makedirs(img_val, exist_ok=True)\n",
    "        os.makedirs(img_test, exist_ok=True)\n",
    "        os.makedirs(label_train, exist_ok=True)\n",
    "        os.makedirs(label_val, exist_ok=True)\n",
    "        os.makedirs(label_test, exist_ok=True)\n",
    "\n",
    "        #create YAML file\n",
    "\n",
    "        # Needs to be changed depending on how many classes you have\n",
    "        data = dict(\n",
    "            train=os.path.join(path, train_name, 'images/train'), \n",
    "            val=os.path.join(path, train_name, 'images/val'),\n",
    "            test=os.path.join(path, train_name, 'images/test'),\n",
    "            nc=4, #number of classes\n",
    "            names=[\"foam\", \"fermentation\", \"foam_cap\", \"rolling foam\"], #class names - need to be in same order as they were trained \n",
    "        )\n",
    "        with open(os.path.join(path, train_name, f'{train_name}.yaml'), 'w') as outfile:\n",
    "            yaml.dump(data, outfile, default_flow_style=False)\n",
    "\n",
    "        # get list of images and list of annotations_txts\n",
    "        images = [os.path.join(images_path, x) for x in os.listdir(images_path) if x.endswith(\".PNG\")] # Change to extension of choice\n",
    "        annotations = [os.path.join(images_path, x) for x in os.listdir(images_path) if x.endswith(\".txt\")]\n",
    "\n",
    "        images.sort()\n",
    "        annotations.sort()\n",
    "\n",
    "        # Split the dataset into train-valid-test splits \n",
    "        train_images, val_images, train_annotations, val_annotations = train_test_split(images, annotations, test_size = 0.2, random_state = 1)\n",
    "        val_images, test_images, val_annotations, test_annotations = train_test_split(val_images, val_annotations, test_size = 0.5, random_state = 1)\n",
    "\n",
    "        def copy_files_to_folder(list_of_files, destination_folder):\n",
    "            for f in list_of_files:\n",
    "                try:\n",
    "                    #should this be shutil.move?? or do we want them in both locations\n",
    "                    shutil.copy(f, destination_folder)\n",
    "                except:\n",
    "                    print(f)\n",
    "                    assert False\n",
    "\n",
    "        # Move the splits into their folders\n",
    "        copy_files_to_folder(train_images, img_train)\n",
    "        copy_files_to_folder(val_images, img_val)\n",
    "        copy_files_to_folder(test_images, img_test)\n",
    "        copy_files_to_folder(train_annotations, label_train)\n",
    "        copy_files_to_folder(val_annotations, label_val)\n",
    "        copy_files_to_folder(test_annotations, label_test)"
   ]
  },
  {
   "cell_type": "code",
   "execution_count": 7,
   "id": "febae7c0",
   "metadata": {},
   "outputs": [
    {
     "name": "stdout",
     "output_type": "stream",
     "text": [
      "Attempting test/train split...\n",
      "SUCCESS\n"
     ]
    }
   ],
   "source": [
    "# Directory where you unzip stuff \n",
    "#\n",
    "folder = r\"C:\\Users\\gdea\\OneDrive - Novozymes A S\\Documents\\python_files\\Useful_work_Programs\\ferm_eye_project\\yolo_training\\hu_58_first_pass_annotations_images\\obj_train_data\" #Once unzipped, this folder will point to the YAML file\n",
    "\n",
    "new_model = \"01092024_FermEye_hu58_firstpass\" #Doesnt really matter, but should probably change\n",
    "\n",
    "try:\n",
    "    print(\"Attempting test/train split...\")\n",
    "    train_from_anns(folder, new_model)\n",
    "    print(\"SUCCESS\")\n",
    "except Exception as e:\n",
    "    print(\"FAILED\")\n",
    "    print(str(e))"
   ]
  },
  {
   "cell_type": "code",
   "execution_count": null,
   "id": "a83d3b85",
   "metadata": {},
   "outputs": [],
   "source": []
  }
 ],
 "metadata": {
  "kernelspec": {
   "display_name": "Python 3 (ipykernel)",
   "language": "python",
   "name": "python3"
  },
  "language_info": {
   "codemirror_mode": {
    "name": "ipython",
    "version": 3
   },
   "file_extension": ".py",
   "mimetype": "text/x-python",
   "name": "python",
   "nbconvert_exporter": "python",
   "pygments_lexer": "ipython3",
   "version": "3.11.3"
  }
 },
 "nbformat": 4,
 "nbformat_minor": 5
}
